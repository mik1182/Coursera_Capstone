{
 "cells": [
  {
   "cell_type": "markdown",
   "metadata": {},
   "source": [
    "<b>Clearly define a problem or an idea of your choice, where you would need to leverage the Foursquare location data to solve or execute. Remember that data science problems always target an audience and are meant to help a group of stakeholders solve a problem, so make sure that you explicitly describe your audience and why they would care about your problem.</b>"
   ]
  },
  {
   "cell_type": "markdown",
   "metadata": {},
   "source": [
    "Purchasing a home is often the biggest transaction in a consumer’s life. Many factors come into play when a growing family is deciding where to live and where to buy a home. Financially, affordability, interest rates, property taxes, lot size, age of the house, and resale value need to be considered. Other factors such as neighborhood safety, commute time, quality of local schools, community life, and local venues and services are also important.<br>\n",
    "\tThe Rafiqs are currently a family of three and are planning on having another child. They currently live in a 2 bedroom/ 2 bathroom condo in Oakland but want more space and a better neighborhood with a stronger community. Mr. Rafiq works in Oakland and is self-employed and Ms. Rafiq is a mental health professional, employed by the state of California. The family wants to keep Ms. Rafiq on track for receiving her pension so they don’t planning on leaving the state. They also have an excellent pediatrician for their 2 year old son so they don’t want to leave the East Bay. So the Rariqs decided to look for a home in Berkeley. But they need help finding the right neighborhood for them.<br>\n",
    "\tThe process of renting or buying a house can be very exhaustive. For a growing family, some of the factors matter more to the Rafiqs than others. A lot of the important factors are heavily influenced by location. They need to see and understand the data behind these factors. This will help them find the best options for their family and also help them feel confident in their decision."
   ]
  },
  {
   "cell_type": "code",
   "execution_count": null,
   "metadata": {},
   "outputs": [],
   "source": []
  }
 ],
 "metadata": {
  "kernelspec": {
   "display_name": "Python",
   "language": "python",
   "name": "conda-env-python-py"
  },
  "language_info": {
   "codemirror_mode": {
    "name": "ipython",
    "version": 3
   },
   "file_extension": ".py",
   "mimetype": "text/x-python",
   "name": "python",
   "nbconvert_exporter": "python",
   "pygments_lexer": "ipython3",
   "version": "3.6.10"
  }
 },
 "nbformat": 4,
 "nbformat_minor": 4
}
